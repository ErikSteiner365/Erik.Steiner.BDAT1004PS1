{
 "cells": [
  {
   "cell_type": "code",
   "execution_count": 3,
   "metadata": {},
   "outputs": [],
   "source": [
    "# *Question 1*"
   ]
  },
  {
   "cell_type": "code",
   "execution_count": null,
   "metadata": {},
   "outputs": [],
   "source": [
    "5 = int\n",
    "5.0 = float\n",
    "5 > 1 = bool\n",
    "'5' = str\n",
    "5 * 2 = int\n",
    "'5' * 2 = str\n",
    "'5' + '2' = str\n",
    "5/2 = float\n",
    "5//2 = int\n",
    "[5, 2, 1] = list\n",
    "5 in [1, 4, 6] = bool\n",
    "math.pi = float"
   ]
  },
  {
   "cell_type": "code",
   "execution_count": 9,
   "metadata": {},
   "outputs": [],
   "source": [
    "# *Question 2*"
   ]
  },
  {
   "cell_type": "code",
   "execution_count": 10,
   "metadata": {},
   "outputs": [
    {
     "data": {
      "text/plain": [
       "34"
      ]
     },
     "execution_count": 10,
     "metadata": {},
     "output_type": "execute_result"
    }
   ],
   "source": [
    "word = 'Supercalifragilisticexpialidocious'\n",
    "len(word)"
   ]
  },
  {
   "cell_type": "code",
   "execution_count": 11,
   "metadata": {},
   "outputs": [
    {
     "data": {
      "text/plain": [
       "True"
      ]
     },
     "execution_count": 11,
     "metadata": {},
     "output_type": "execute_result"
    }
   ],
   "source": [
    "'ice' in word"
   ]
  },
  {
   "cell_type": "code",
   "execution_count": 21,
   "metadata": {},
   "outputs": [
    {
     "name": "stdout",
     "output_type": "stream",
     "text": [
      "Supercalifragilisticexpialidocious\n",
      "Bababadalgharaghtakamminarronnkonn\n"
     ]
    }
   ],
   "source": [
    "word1 = 'Honorificabilitudinitatibus'\n",
    "word2 = 'Bababadalgharaghtakamminarronnkonn'\n",
    "\n",
    "words = [word, word1, word2]\n",
    "\n",
    "for c in words:\n",
    "    if max(len(word), len(word1), len(word2)) == len(c):\n",
    "        print(c)"
   ]
  },
  {
   "cell_type": "code",
   "execution_count": 24,
   "metadata": {},
   "outputs": [
    {
     "name": "stdout",
     "output_type": "stream",
     "text": [
      "Bartok\n",
      "Buxtehude\n"
     ]
    }
   ],
   "source": [
    "composers = ['Berlioz', 'Borodin', 'Brian',\n",
    "'Bartok', 'Bellini', 'Buxtehude', 'Bernstein']\n",
    "\n",
    "composers.sort()\n",
    "\n",
    "print(composers[0])\n",
    "print(composers[-1])"
   ]
  },
  {
   "cell_type": "code",
   "execution_count": null,
   "metadata": {},
   "outputs": [],
   "source": [
    "# *Question 3*"
   ]
  },
  {
   "cell_type": "code",
   "execution_count": 33,
   "metadata": {},
   "outputs": [],
   "source": [
    "def inside(x,y,x1,y1,x2,y2):\n",
    "    \"\"\" inside(float,float,float,float,float,float) -> bool\n",
    "    return true if the point (x,y) lies in the rectangle with lower left corner (x1,y1) \n",
    "    and upper right corner (x2,y2), else return false\n",
    "    \n",
    "    >>> inside(1,1,0,0,2,3)\n",
    "    True\n",
    "    >>> inside(-1,-1,0,0,2,3)\n",
    "    False\n",
    "    \"\"\"\n",
    "    \n",
    "    return x1<x<x2 and y1<y<y2"
   ]
  },
  {
   "cell_type": "code",
   "execution_count": 34,
   "metadata": {},
   "outputs": [
    {
     "data": {
      "text/plain": [
       "True"
      ]
     },
     "execution_count": 34,
     "metadata": {},
     "output_type": "execute_result"
    }
   ],
   "source": [
    "inside(1,1,0,0,2,3)"
   ]
  },
  {
   "cell_type": "code",
   "execution_count": 35,
   "metadata": {},
   "outputs": [
    {
     "data": {
      "text/plain": [
       "False"
      ]
     },
     "execution_count": 35,
     "metadata": {},
     "output_type": "execute_result"
    }
   ],
   "source": [
    "inside(-1,-1,0,0,2,3)"
   ]
  },
  {
   "cell_type": "code",
   "execution_count": 37,
   "metadata": {},
   "outputs": [
    {
     "data": {
      "text/plain": [
       "False"
      ]
     },
     "execution_count": 37,
     "metadata": {},
     "output_type": "execute_result"
    }
   ],
   "source": [
    "inside(1,1,0.3,0.5,1.1,0.7) and inside(1,1,0.5,0.2,1.1,2)"
   ]
  },
  {
   "cell_type": "code",
   "execution_count": 42,
   "metadata": {},
   "outputs": [],
   "source": [
    "# *Question 4*"
   ]
  },
  {
   "cell_type": "code",
   "execution_count": 84,
   "metadata": {},
   "outputs": [],
   "source": [
    "def pig(word):\n",
    "    \"\"\"input word(str) -> str \n",
    "    return the word in pig-latin.\n",
    "    pig-latin: if a word starts with a consonant, move that letter to the end and append 'ay', \n",
    "    if a word starts with a vowel, append 'hay'\n",
    "    \n",
    "    >>>pig('happy')\n",
    "    'appyhay'\n",
    "    \"\"\"\n",
    "    \n",
    "    vowels = ['a','e','i','o','u','A','E','I','O','U']\n",
    "    new_word =''\n",
    "    fletter = word[0]\n",
    "    \n",
    "    if fletter in vowels:\n",
    "        new_word = word + 'way'\n",
    "        \n",
    "    else:\n",
    "        for i in range(len(word)-1):\n",
    "            new_word += word[i+1]\n",
    "            \n",
    "        new_word += fletter + 'ay'\n",
    "        \n",
    "    return str.lower(new_word)\n",
    "    "
   ]
  },
  {
   "cell_type": "code",
   "execution_count": 82,
   "metadata": {},
   "outputs": [
    {
     "data": {
      "text/plain": [
       "'appyhay'"
      ]
     },
     "execution_count": 82,
     "metadata": {},
     "output_type": "execute_result"
    }
   ],
   "source": [
    "pig('Happy')"
   ]
  },
  {
   "cell_type": "code",
   "execution_count": 85,
   "metadata": {},
   "outputs": [
    {
     "data": {
      "text/plain": [
       "'enterway'"
      ]
     },
     "execution_count": 85,
     "metadata": {},
     "output_type": "execute_result"
    }
   ],
   "source": [
    "pig(\"Enter\")"
   ]
  },
  {
   "cell_type": "code",
   "execution_count": null,
   "metadata": {},
   "outputs": [],
   "source": [
    "# *Question 5*"
   ]
  },
  {
   "cell_type": "code",
   "execution_count": 51,
   "metadata": {},
   "outputs": [],
   "source": [
    "def bldcount(name):\n",
    "    '''bldcount(fileaddress) -> set of strings\n",
    "    Enter a text document with a list of blood types, return a set of strings detailing how many\n",
    "    of each type there are in proper grammatical english.  \n",
    "    '''\n",
    "    bld = open(name) #open the file\n",
    "    blood = bld.read() #read the file\n",
    "    bldlst = blood.split(' ') #put the file string into a list seperated by the space\n",
    "    \n",
    "    a = bldlst.count('A')\n",
    "    b = bldlst.count('B')\n",
    "    ab = bldlst.count('AB')\n",
    "    o = bldlst.count('O')\n",
    "    oo = bldlst.count('OO')\n",
    "    #count the number of each type and put them in new variables\n",
    "    \n",
    "    if a == 1:\n",
    "        print('There is one patient of blood type A')\n",
    "    elif a == 0:\n",
    "        print('There are no patients of blood type A')\n",
    "    else:\n",
    "        print('There are ' + str(a)+ ' patients of blood type A')\n",
    "        \n",
    "    if b == 1:\n",
    "        print('There is one patient of blood type B')\n",
    "    elif b == 0:\n",
    "        print('There are no patients of blood type B')\n",
    "    else:\n",
    "        print('There are ' + str(b)+ ' patients of blood type B')\n",
    "    \n",
    "    if ab == 1:\n",
    "        print('There is one patient of blood type AB')\n",
    "    elif ab == 0:\n",
    "        print('There are no patients of blood type AB')\n",
    "    else:\n",
    "        print('There are ' + str(ab)+ ' patients of blood type AB')\n",
    "    \n",
    "    if o == 1:\n",
    "        print('There is one patient of blood type O')\n",
    "    elif o == 0:\n",
    "        print('There are no patients of blood type O')\n",
    "    else:\n",
    "        print('There are ' + str(o)+ ' patients of blood type O')\n",
    "    \n",
    "    if oo == 1:\n",
    "        print('There is one patient of blood type OO')\n",
    "    elif oo == 0:\n",
    "        print('There are no patients of blood type OO')\n",
    "    else:\n",
    "        print('There are ' + str(o)+ ' patients of blood type OO')\n",
    "    #check if they are 1, 0 or a bigger number and print the appropriate patient statement\n",
    "    \n",
    "    bld.close() #close the file\n",
    "    return"
   ]
  },
  {
   "cell_type": "code",
   "execution_count": 52,
   "metadata": {},
   "outputs": [
    {
     "name": "stdout",
     "output_type": "stream",
     "text": [
      "There are 15 patients of blood type A\n",
      "There is one patient of blood type B\n",
      "There are 13 patients of blood type AB\n",
      "There are 15 patients of blood type O\n",
      "There are no patients of blood type OO\n"
     ]
    }
   ],
   "source": [
    "bldcount('/Users/eriks/Documents/BDAT2020/Fall/Data Programming/Txtfiles/bloodtype1.txt')"
   ]
  },
  {
   "cell_type": "code",
   "execution_count": null,
   "metadata": {},
   "outputs": [],
   "source": [
    "# *Question 6*"
   ]
  },
  {
   "cell_type": "code",
   "execution_count": 59,
   "metadata": {},
   "outputs": [],
   "source": [
    "def curconv(cur, amt):\n",
    "    '''curconv(str, int) -> float\n",
    "    Enter a currency type and amount, return that amount in USD.\n",
    "    \n",
    "    >>>curconv('EUR', 100)\n",
    "    122.96544\n",
    "    >>>curconv('jpy', 100)\n",
    "    1.21401\n",
    "    >>>curconv('BPJ', 100)\n",
    "    Conversion is not available for this currency.\n",
    "    '''\n",
    "    \n",
    "    crcs = open('/Users/eriks/Documents/BDAT2020/Fall/Data Programming/Txtfiles/currencies(1).txt')\n",
    "    crsclst = crcs.readlines()\n",
    "    crcs.close()\n",
    "    #open the currency reference file, read it into a list and close the file\n",
    "    t = 0\n",
    "    \n",
    "    for i in crsclst: #iterate through the list\n",
    "        if cur.upper() in i: #find the original currency\n",
    "            conv = i.rsplit() #create list conv with the relevant info\n",
    "            ttl = amt*float(conv[1]) #create the USD amount by multiplying the original amount with the \n",
    "    #exchange rate converted to a float\n",
    "            t = 1\n",
    "            return ttl\n",
    "    \n",
    "    if t==0:\n",
    "        print('Conversion is not available for this currency.')\n",
    "    return"
   ]
  },
  {
   "cell_type": "code",
   "execution_count": 60,
   "metadata": {},
   "outputs": [
    {
     "data": {
      "text/plain": [
       "122.96544"
      ]
     },
     "execution_count": 60,
     "metadata": {},
     "output_type": "execute_result"
    }
   ],
   "source": [
    "curconv('EUR', 100)"
   ]
  },
  {
   "cell_type": "code",
   "execution_count": 61,
   "metadata": {},
   "outputs": [
    {
     "data": {
      "text/plain": [
       "1.241401"
      ]
     },
     "execution_count": 61,
     "metadata": {},
     "output_type": "execute_result"
    }
   ],
   "source": [
    "curconv('jpy', 100)"
   ]
  },
  {
   "cell_type": "code",
   "execution_count": 62,
   "metadata": {},
   "outputs": [
    {
     "name": "stdout",
     "output_type": "stream",
     "text": [
      "Conversion is not available for this currency.\n"
     ]
    }
   ],
   "source": [
    "curconv('BPJ', 100)"
   ]
  },
  {
   "cell_type": "code",
   "execution_count": null,
   "metadata": {},
   "outputs": [],
   "source": [
    "# *Question 7*"
   ]
  },
  {
   "cell_type": "code",
   "execution_count": null,
   "metadata": {},
   "outputs": [],
   "source": [
    "6 + 'a' = #TypeError\n",
    "lst[11] = #IndexError\n",
    "math.sqrt(-1.0) #ValueError\n",
    "print(x) = #NameError\n",
    "file = open('/Users/eriks/Documents/BDAT2020/Fall/Data Programming/Txtfiles/currencies(2).txt')\n",
    "#FileNotFoundError"
   ]
  },
  {
   "cell_type": "code",
   "execution_count": null,
   "metadata": {},
   "outputs": [],
   "source": [
    "# *Question 8*"
   ]
  },
  {
   "cell_type": "code",
   "execution_count": 83,
   "metadata": {},
   "outputs": [],
   "source": [
    "def frequencies(phrase):\n",
    "    '''frequencies(str) -> list of int\n",
    "    Return a list of the frequencies of every alpha character in the inputed phrase\n",
    "    \n",
    "    >>> frequencies('The quick red fox got bored and went home.')\n",
    "    [1, 1, 1, 3, 5, 1, 1, 2, 1, 0, 1, 0, 1, 2, 4, 0, 1, 2, 0, 2,\n",
    "    1, 0, 1, 1, 0, 0] #continuing the example assuming we are counting uppercase letters\n",
    "    '''\n",
    "    lphrase = phrase.lower() #make the phrase lowercase\n",
    "    phrase = list(lphrase.replace(' ','')) #remove whitespace and place in a list\n",
    "    \n",
    "    letters = 'abcdefghijklmnopqrstuvwxyz'\n",
    "    freq = [0,0,0,0,0,0,0,0,0,0,0,0,0,0,0,0,0,0,0,0,0,0,0,0,0,0] #establish baselines\n",
    "    \n",
    "    freq = [freq[i] + phrase.count(letters[i]) for i in range(0,len(letters)) ] #populate list frequencies\n",
    "    \n",
    "    return freq \n",
    "    "
   ]
  },
  {
   "cell_type": "code",
   "execution_count": 84,
   "metadata": {},
   "outputs": [
    {
     "data": {
      "text/plain": [
       "[1, 1, 1, 3, 5, 1, 1, 2, 1, 0, 1, 0, 1, 2, 4, 0, 1, 2, 0, 3, 1, 0, 1, 1, 0, 0]"
      ]
     },
     "execution_count": 84,
     "metadata": {},
     "output_type": "execute_result"
    }
   ],
   "source": [
    "frequencies('The quick red fox got bored and went home.')"
   ]
  },
  {
   "cell_type": "code",
   "execution_count": 86,
   "metadata": {},
   "outputs": [],
   "source": [
    "# *Question 9*"
   ]
  },
  {
   "cell_type": "code",
   "execution_count": 25,
   "metadata": {},
   "outputs": [],
   "source": [
    "def sieve(n):\n",
    "    '''sieve(int) -> list of int\n",
    "    return all the prime numbers from range (0,n)\n",
    "    \n",
    "    >>> sieve(56)\n",
    "    [2, 3, 5, 7, 11, 13, 17, 19, 23, 29, 31, 37, 41,\n",
    "    43, 47, 53]\n",
    "    >>> sieve(368)\n",
    "    [2, 3, 5, 7, 11, 13, 17, 19, 23, 29, 31, 37, 41,\n",
    "    43, 47, 53, 59, 61, 67, 71, 73, 79, 83, 89, 97,\n",
    "    101, 103, 107, 109, 113, 127, 131, 137, 139, 149,\n",
    "    151, 157, 163, 167, 173, 179, 181, 191, 193, 197,\n",
    "    199, 211, 223, 227, 229, 233, 239, 241, 251, 257,\n",
    "    263, 269, 271, 277, 281, 283, 293, 307, 311, 313,\n",
    "    317, 331, 337, 347, 349, 353, 359, 367]\n",
    "    >>> sieve(32)\n",
    "    [2, 3, 5, 7, 11, 13, 17, 19, 23, 29, 31]\n",
    "    '''\n",
    "    import math #import math module for function sqrt\n",
    "    \n",
    "    L=[] #make empty list L  \n",
    "    L = [i for i in range(2, n+1)] #populate list L with all numbers 2 - n\n",
    "    \n",
    "    i = 2 #tally starting at 2 (the lowest possible prime)\n",
    "        \n",
    "    while i <= int(math.sqrt(n)): #iterate from 2 to the square root of n\n",
    "        if i in L: #only perform the function on numbers that are still in list L\n",
    "            for j in range(i*2, n+1, i): #iterate up all multiples of i\n",
    "                if j in L: #only perform the function if j is in L\n",
    "                    L.remove(j) #remove j from L\n",
    "        i += 1 #increase the iteration to perform this function on the next prime\n",
    "    \n",
    "    print(L)\n",
    "    return"
   ]
  },
  {
   "cell_type": "code",
   "execution_count": 26,
   "metadata": {},
   "outputs": [
    {
     "name": "stdout",
     "output_type": "stream",
     "text": [
      "[2, 3, 5, 7, 11, 13, 17, 19, 23, 29, 31, 37, 41, 43, 47, 53]\n"
     ]
    }
   ],
   "source": [
    "sieve(56)"
   ]
  },
  {
   "cell_type": "code",
   "execution_count": 28,
   "metadata": {},
   "outputs": [
    {
     "name": "stdout",
     "output_type": "stream",
     "text": [
      "[2, 3, 5, 7, 11, 13, 17, 19, 23, 29, 31, 37, 41, 43, 47, 53, 59, 61, 67, 71, 73, 79, 83, 89, 97, 101, 103, 107, 109, 113, 127, 131, 137, 139, 149, 151, 157, 163, 167, 173, 179, 181, 191, 193, 197, 199, 211, 223, 227, 229, 233, 239, 241, 251, 257, 263, 269, 271, 277, 281, 283, 293, 307, 311, 313, 317, 331, 337, 347, 349, 353, 359, 367]\n"
     ]
    }
   ],
   "source": [
    "sieve(368)"
   ]
  },
  {
   "cell_type": "code",
   "execution_count": 7,
   "metadata": {},
   "outputs": [
    {
     "data": {
      "text/plain": [
       "[2, 3, 5, 7, 11, 13, 17, 19, 23, 29, 31]"
      ]
     },
     "execution_count": 7,
     "metadata": {},
     "output_type": "execute_result"
    }
   ],
   "source": [
    "sieve(32)"
   ]
  },
  {
   "cell_type": "code",
   "execution_count": 30,
   "metadata": {},
   "outputs": [],
   "source": [
    "# *Question 10*"
   ]
  },
  {
   "cell_type": "code",
   "execution_count": 39,
   "metadata": {},
   "outputs": [],
   "source": [
    "def triangleArea(a, b, c):\n",
    "    '''triangleArea(int, int, int) -> float\n",
    "    return the area of a triangle using Heron's formula\n",
    "    \n",
    "    >>>triangleArea(2,2,2)\n",
    "    1.7320508075688772    \n",
    "    '''\n",
    "    \n",
    "    import math\n",
    "    \n",
    "    s = (a+b+c)/2 #find s\n",
    "        \n",
    "    area = math.sqrt(s*(s-a)*(s-b)*(s-c)) #perform function\n",
    "    \n",
    "    return area"
   ]
  },
  {
   "cell_type": "code",
   "execution_count": 40,
   "metadata": {},
   "outputs": [
    {
     "data": {
      "text/plain": [
       "1.7320508075688772"
      ]
     },
     "execution_count": 40,
     "metadata": {},
     "output_type": "execute_result"
    }
   ],
   "source": [
    "triangleArea(2,2,2)"
   ]
  }
 ],
 "metadata": {
  "kernelspec": {
   "display_name": "Python 3",
   "language": "python",
   "name": "python3"
  },
  "language_info": {
   "codemirror_mode": {
    "name": "ipython",
    "version": 3
   },
   "file_extension": ".py",
   "mimetype": "text/x-python",
   "name": "python",
   "nbconvert_exporter": "python",
   "pygments_lexer": "ipython3",
   "version": "3.8.3"
  }
 },
 "nbformat": 4,
 "nbformat_minor": 4
}
